{
  "nbformat": 4,
  "nbformat_minor": 0,
  "metadata": {
    "kernelspec": {
      "display_name": "Python 3",
      "language": "python",
      "name": "python3"
    },
    "language_info": {
      "codemirror_mode": {
        "name": "ipython",
        "version": 3
      },
      "file_extension": ".py",
      "mimetype": "text/x-python",
      "name": "python",
      "nbconvert_exporter": "python",
      "pygments_lexer": "ipython3",
      "version": "3.7.6"
    },
    "colab": {
      "name": "exceptions.ipynb",
      "provenance": []
    }
  },
  "cells": [
    {
      "cell_type": "markdown",
      "metadata": {
        "id": "AwdjMd9si1bk"
      },
      "source": [
        "# Error and Exception Handling"
      ]
    },
    {
      "cell_type": "code",
      "metadata": {
        "id": "iYfmziJ9i1b3"
      },
      "source": [
        "5/0\n",
        "print(\"hellow\")"
      ],
      "execution_count": null,
      "outputs": []
    },
    {
      "cell_type": "code",
      "metadata": {
        "id": "lqVYi2yTi1b5",
        "outputId": "9e071ba1-68cf-4597-d718-3bc0cd003667"
      },
      "source": [
        "\n",
        "try:\n",
        "    a =int(input(\"Enter a number\")) \n",
        "    b =int(input(\"Enter a number\")) \n",
        "    c = a/b\n",
        "    print(c)\n",
        "except ZeroDivisionError:\n",
        "    print(\"Exception is caught ZeroDivisionError\")\n",
        "except ValueError:\n",
        "print('Hello Error')"
      ],
      "execution_count": null,
      "outputs": [
        {
          "output_type": "stream",
          "text": [
            "Enter a number1\n",
            "Enter a number2\n",
            "0.5\n",
            "Hello Error\n"
          ],
          "name": "stdout"
        }
      ]
    },
    {
      "cell_type": "code",
      "metadata": {
        "id": "W0Qam5Uhi1b7",
        "outputId": "c836e317-7172-455e-83e0-e4ea48075b42"
      },
      "source": [
        "\n",
        "a =int(input(\"Enter a number\")) \n",
        "b =int(input(\"Enter a number\")) \n",
        "\n",
        "\n",
        "c = a/b\n",
        "print(c)\n",
        "\n",
        "print('Hello World')"
      ],
      "execution_count": null,
      "outputs": [
        {
          "output_type": "stream",
          "text": [
            "Enter a number5\n",
            "Enter a number0\n"
          ],
          "name": "stdout"
        },
        {
          "output_type": "error",
          "ename": "ZeroDivisionError",
          "evalue": "division by zero",
          "traceback": [
            "\u001b[1;31m---------------------------------------------------------------------------\u001b[0m",
            "\u001b[1;31mZeroDivisionError\u001b[0m                         Traceback (most recent call last)",
            "\u001b[1;32m<ipython-input-3-c415b6da7b73>\u001b[0m in \u001b[0;36m<module>\u001b[1;34m\u001b[0m\n\u001b[0;32m      3\u001b[0m \u001b[1;33m\u001b[0m\u001b[0m\n\u001b[0;32m      4\u001b[0m \u001b[1;33m\u001b[0m\u001b[0m\n\u001b[1;32m----> 5\u001b[1;33m \u001b[0mc\u001b[0m \u001b[1;33m=\u001b[0m \u001b[0ma\u001b[0m\u001b[1;33m/\u001b[0m\u001b[0mb\u001b[0m\u001b[1;33m\u001b[0m\u001b[1;33m\u001b[0m\u001b[0m\n\u001b[0m\u001b[0;32m      6\u001b[0m \u001b[0mprint\u001b[0m\u001b[1;33m(\u001b[0m\u001b[0mc\u001b[0m\u001b[1;33m)\u001b[0m\u001b[1;33m\u001b[0m\u001b[1;33m\u001b[0m\u001b[0m\n\u001b[0;32m      7\u001b[0m \u001b[1;33m\u001b[0m\u001b[0m\n",
            "\u001b[1;31mZeroDivisionError\u001b[0m: division by zero"
          ]
        }
      ]
    },
    {
      "cell_type": "code",
      "metadata": {
        "id": "apR0ri2Ai1b8",
        "outputId": "53d1f3b2-f7e6-4ae8-debd-572b2fabc9a8"
      },
      "source": [
        "a = [1,2,3]\n",
        "try:\n",
        "    print(a[8])\n",
        "except IndexError:\n",
        "    print('Yeah! I Have handled that error')"
      ],
      "execution_count": null,
      "outputs": [
        {
          "output_type": "stream",
          "text": [
            "Yeah! I Have handled that error\n"
          ],
          "name": "stdout"
        }
      ]
    },
    {
      "cell_type": "code",
      "metadata": {
        "id": "idJzfHEXi1b9",
        "outputId": "d183d8a9-a50b-42c2-9614-46a3756e352f"
      },
      "source": [
        "a =int(input(\"Enter a number\")) \n",
        "b =int(input(\"Enter a number\")) \n",
        "d = []\n",
        "try:\n",
        "    c = a/b\n",
        "    print(d[2])\n",
        "except ZeroDivisionError:\n",
        "    print('Exception is caught ZeroDivisionError')\n",
        "except IndexError:\n",
        "    print('Yeah! I Have handled that error')\n",
        "else: print(\"nahi i \")\n",
        "    \n",
        "print('Hello World')"
      ],
      "execution_count": null,
      "outputs": [
        {
          "output_type": "stream",
          "text": [
            "Enter a number4\n",
            "Enter a number5\n",
            "Yeah! I Have handled that error\n",
            "Hello World\n"
          ],
          "name": "stdout"
        }
      ]
    },
    {
      "cell_type": "code",
      "metadata": {
        "id": "l6MB7vFfi1b-",
        "outputId": "575b0620-2316-4f82-c773-edd5d922b695"
      },
      "source": [
        "a =int(input(\"Enter a number\")) \n",
        "b =int(input(\"Enter a number\")) \n",
        "try:\n",
        "    c = a/b\n",
        "    \n",
        "except ZeroDivisionError:\n",
        "    print(\"Handled ZeroDivisionError\")\n",
        "    print(\"Next code .......\")\n",
        "    \n",
        "\n",
        "else:print(\"Very good exception nahi i picnic pe chalte hen\")\n",
        "\n",
        "print(\"Ghar me he rehte hen\")"
      ],
      "execution_count": null,
      "outputs": [
        {
          "output_type": "stream",
          "text": [
            "Enter a number4\n",
            "Enter a number0\n",
            "Handled ZeroDivisionError\n",
            "Next code .......\n",
            "Ghar me he rehte hen\n"
          ],
          "name": "stdout"
        }
      ]
    },
    {
      "cell_type": "code",
      "metadata": {
        "id": "ZtsIIjrii1b_"
      },
      "source": [
        "\n",
        "\n",
        "a =int(input(\"Enter a number\")) \n",
        "b =int(input(\"Enter a number\")) \n",
        "d = []\n",
        "try:\n",
        "    c = a/b\n",
        "    e = d[5]\n",
        "    print(e)\n",
        "except ZeroDivisionError:\n",
        "    print(\"Handled ZeroDivisionError\")\n",
        "else:\n",
        "    print(c)\n",
        "\n",
        "\n",
        "\n"
      ],
      "execution_count": null,
      "outputs": []
    },
    {
      "cell_type": "code",
      "metadata": {
        "id": "utUkARs6i1cA"
      },
      "source": [
        "print(\"First\")\n",
        "a =int(input(\"Enter a number\")) \n",
        "b =int(input(\"Enter a number\")) \n",
        "d = []\n",
        "try:\n",
        "    c = a/b\n",
        "#     e = d[5]\n",
        "except ZeroDivisionError:\n",
        "    print(\"Handled ZeroDivisionError\")\n",
        "else:\n",
        "    print(c)\n",
        "\n",
        "print(\"last\")\n",
        "\n"
      ],
      "execution_count": null,
      "outputs": []
    },
    {
      "cell_type": "code",
      "metadata": {
        "id": "oJ5NeJXYi1cA"
      },
      "source": [
        "\n",
        "\n",
        "a =int(input(\"Enter a number\")) \n",
        "b =int(input(\"Enter a number\")) \n",
        "d = []\n",
        "try:\n",
        "    c = a/b\n",
        "    e = d[5]\n",
        "except ZeroDivisionError: #Type Z and press tab to get list of Exception\n",
        "    print(\"Exception is caught ZeroDivisionError\")\n",
        "except  IndexError:                #Type I and press tab to get list of Exception\n",
        "    print(\"Exception is caught is list index out of range\")\n",
        "else:\n",
        "    print(c)\n",
        "    print(e)\n",
        "\n",
        "\n"
      ],
      "execution_count": null,
      "outputs": []
    },
    {
      "cell_type": "code",
      "metadata": {
        "id": "VNoL7IJmi1cB",
        "outputId": "7ed7b5d3-c655-46e1-cf18-3ef1ce415a8e"
      },
      "source": [
        "\n",
        "\n",
        " \n",
        "d = []\n",
        "try:\n",
        "    a =int(input(\"Enter a number\")) \n",
        "    b =int(input(\"Enter a number\")) \n",
        "    c = a/b\n",
        "    e = d[5]\n",
        "except:           # here we did not explain the type of exception. Genral exception will\n",
        "                  # be used. means it will catch every kind of exception\n",
        "    print(\"koi si bhi Exception is caught\")\n",
        "else:\n",
        "    print(c)\n",
        "\n",
        "\n"
      ],
      "execution_count": null,
      "outputs": [
        {
          "output_type": "stream",
          "text": [
            "Enter a number5\n",
            "Enter a number6\n",
            "koi si bhi Exception is caught\n"
          ],
          "name": "stdout"
        }
      ]
    },
    {
      "cell_type": "code",
      "metadata": {
        "id": "qoor_h7hi1cC",
        "outputId": "1bf4819a-2e12-4ea7-b4a9-e49e07d12d8e"
      },
      "source": [
        "\n",
        "# a =int(input(\"Enter a number\")) \n",
        "# b =int(input(\"Enter a number\")) \n",
        "d = []\n",
        "try:\n",
        "    '''built in message print karna hy exception ka to {except Exception as e:}\n",
        "    is me jistrah ki acception aegi wo uska message khud he utha k laega or print karega\n",
        "    is code ko khud se run kare or exception raise kar k dekhen'''\n",
        "    a =int(input(\"Enter a number\")) \n",
        "    b =int(input(\"Enter a number\"))\n",
        "    c = a/b\n",
        "    ee = d[5]\n",
        "except Exception as e:\n",
        "    print(\"Handled Error == \" +str(e))\n",
        "else:\n",
        "    print(c)\n",
        "\n",
        "print('HelloWorld')"
      ],
      "execution_count": null,
      "outputs": [
        {
          "output_type": "stream",
          "text": [
            "Enter a number8\n",
            "Enter a number0\n",
            "Handled Error == division by zero\n",
            "HelloWorld\n"
          ],
          "name": "stdout"
        }
      ]
    },
    {
      "cell_type": "code",
      "metadata": {
        "id": "wxIwpTn-i1cD"
      },
      "source": [
        "\n",
        "a =int(input(\"Enter a number\")) \n",
        "b =int(input(\"Enter a number\")) \n",
        "d = []\n",
        "try:\n",
        "    c = a/b\n",
        "    e = d[5]\n",
        "    \n",
        "    \"\"\"yahan ek humne apni message likha hy or ek built in use kia hy\"\"\"\n",
        "    \n",
        "except ZeroDivisionError:\n",
        "    print(\"Handel ZeroDivisionError\")\n",
        "    \n",
        "except Exception as e:\n",
        "    \n",
        "    print(\"Handle Error == \" +str(e))\n",
        "    \n",
        "else:\n",
        "    print(c)\n",
        "\n",
        "\n",
        "\n"
      ],
      "execution_count": null,
      "outputs": []
    },
    {
      "cell_type": "code",
      "metadata": {
        "id": "xo1_B6jJi1cE",
        "outputId": "f5c102ec-ca3d-4f43-de73-046297cdd6d2"
      },
      "source": [
        "\n",
        "\n",
        "a =int(input(\"Enter a number\")) \n",
        "b =int(input(\"Enter a number\")) \n",
        "d = []\n",
        "try:\n",
        "    c = a/b\n",
        "    e = d[5]\n",
        "except ZeroDivisionError:\n",
        "    print(\"Handel ZeroDivisionError\")\n",
        "\n",
        "else:\n",
        "    print(c)\n",
        "\n",
        "finally:\n",
        "    print(\"Finally will always run\")\n",
        "\n",
        "\n",
        "\n"
      ],
      "execution_count": null,
      "outputs": [
        {
          "output_type": "stream",
          "text": [
            "Enter a number5\n",
            "Enter a number8\n",
            "Finally will always run\n"
          ],
          "name": "stdout"
        },
        {
          "output_type": "error",
          "ename": "IndexError",
          "evalue": "list index out of range",
          "traceback": [
            "\u001b[1;31m---------------------------------------------------------------------------\u001b[0m",
            "\u001b[1;31mIndexError\u001b[0m                                Traceback (most recent call last)",
            "\u001b[1;32m<ipython-input-21-022dfe684d48>\u001b[0m in \u001b[0;36m<module>\u001b[1;34m\u001b[0m\n\u001b[0;32m      4\u001b[0m \u001b[1;32mtry\u001b[0m\u001b[1;33m:\u001b[0m\u001b[1;33m\u001b[0m\u001b[1;33m\u001b[0m\u001b[0m\n\u001b[0;32m      5\u001b[0m     \u001b[0mc\u001b[0m \u001b[1;33m=\u001b[0m \u001b[0ma\u001b[0m\u001b[1;33m/\u001b[0m\u001b[0mb\u001b[0m\u001b[1;33m\u001b[0m\u001b[1;33m\u001b[0m\u001b[0m\n\u001b[1;32m----> 6\u001b[1;33m     \u001b[0me\u001b[0m \u001b[1;33m=\u001b[0m \u001b[0md\u001b[0m\u001b[1;33m[\u001b[0m\u001b[1;36m5\u001b[0m\u001b[1;33m]\u001b[0m\u001b[1;33m\u001b[0m\u001b[1;33m\u001b[0m\u001b[0m\n\u001b[0m\u001b[0;32m      7\u001b[0m \u001b[1;32mexcept\u001b[0m \u001b[0mZeroDivisionError\u001b[0m\u001b[1;33m:\u001b[0m\u001b[1;33m\u001b[0m\u001b[1;33m\u001b[0m\u001b[0m\n\u001b[0;32m      8\u001b[0m     \u001b[0mprint\u001b[0m\u001b[1;33m(\u001b[0m\u001b[1;34m\"Handel ZeroDivisionError\"\u001b[0m\u001b[1;33m)\u001b[0m\u001b[1;33m\u001b[0m\u001b[1;33m\u001b[0m\u001b[0m\n",
            "\u001b[1;31mIndexError\u001b[0m: list index out of range"
          ]
        }
      ]
    },
    {
      "cell_type": "code",
      "metadata": {
        "id": "gW5D-XYii1cE"
      },
      "source": [
        ""
      ],
      "execution_count": null,
      "outputs": []
    },
    {
      "cell_type": "markdown",
      "metadata": {
        "id": "f_Zp1CcHi1cF"
      },
      "source": [
        "###Rasing our own exceptions\n",
        "\n",
        "We can rasie exception by ourselves. ony any condition we defined like if a>10 raise exception\n",
        "like if user inputs value 10 raise exception bla bla bla bla......"
      ]
    },
    {
      "cell_type": "code",
      "metadata": {
        "id": "TpJydCxzi1cF"
      },
      "source": [
        "\n",
        "class Student():\n",
        "    def __init__(self,name,age):\n",
        "        if age < 80 or age >16:\n",
        "            raise Exception(\"Age can not be greater then 80 and less then 16\")\n",
        "        self.name = name\n",
        "        self.age = age"
      ],
      "execution_count": null,
      "outputs": []
    },
    {
      "cell_type": "code",
      "metadata": {
        "colab": {
          "base_uri": "https://localhost:8080/",
          "height": 367
        },
        "id": "WlCIy42ti1cG",
        "outputId": "ab330f99-e4f3-4fdc-da3d-c884c14dc44c"
      },
      "source": [
        "age = int(input(\"Enter students age: \"))\n",
        "\n",
        "\n",
        "st = Student(\"ALi\",age)\n",
        "\n",
        "\n",
        "print(st.age)\n"
      ],
      "execution_count": null,
      "outputs": [
        {
          "output_type": "stream",
          "text": [
            "Enter students age: 90\n"
          ],
          "name": "stdout"
        },
        {
          "output_type": "error",
          "ename": "Exception",
          "evalue": "ignored",
          "traceback": [
            "\u001b[0;31m---------------------------------------------------------------------------\u001b[0m",
            "\u001b[0;31mException\u001b[0m                                 Traceback (most recent call last)",
            "\u001b[0;32m<ipython-input-3-b71dfc1b04c4>\u001b[0m in \u001b[0;36m<module>\u001b[0;34m()\u001b[0m\n\u001b[1;32m      2\u001b[0m \u001b[0;34m\u001b[0m\u001b[0m\n\u001b[1;32m      3\u001b[0m \u001b[0;34m\u001b[0m\u001b[0m\n\u001b[0;32m----> 4\u001b[0;31m \u001b[0mst\u001b[0m \u001b[0;34m=\u001b[0m \u001b[0mStudent\u001b[0m\u001b[0;34m(\u001b[0m\u001b[0;34m\"ALi\"\u001b[0m\u001b[0;34m,\u001b[0m\u001b[0mage\u001b[0m\u001b[0;34m)\u001b[0m\u001b[0;34m\u001b[0m\u001b[0;34m\u001b[0m\u001b[0m\n\u001b[0m\u001b[1;32m      5\u001b[0m \u001b[0;34m\u001b[0m\u001b[0m\n\u001b[1;32m      6\u001b[0m \u001b[0;34m\u001b[0m\u001b[0m\n",
            "\u001b[0;32m<ipython-input-2-92f1ba4faa21>\u001b[0m in \u001b[0;36m__init__\u001b[0;34m(self, name, age)\u001b[0m\n\u001b[1;32m      3\u001b[0m     \u001b[0;32mdef\u001b[0m \u001b[0m__init__\u001b[0m\u001b[0;34m(\u001b[0m\u001b[0mself\u001b[0m\u001b[0;34m,\u001b[0m\u001b[0mname\u001b[0m\u001b[0;34m,\u001b[0m\u001b[0mage\u001b[0m\u001b[0;34m)\u001b[0m\u001b[0;34m:\u001b[0m\u001b[0;34m\u001b[0m\u001b[0;34m\u001b[0m\u001b[0m\n\u001b[1;32m      4\u001b[0m         \u001b[0;32mif\u001b[0m \u001b[0mage\u001b[0m \u001b[0;34m<\u001b[0m \u001b[0;36m80\u001b[0m \u001b[0;32mor\u001b[0m \u001b[0mage\u001b[0m \u001b[0;34m>\u001b[0m\u001b[0;36m16\u001b[0m\u001b[0;34m:\u001b[0m\u001b[0;34m\u001b[0m\u001b[0;34m\u001b[0m\u001b[0m\n\u001b[0;32m----> 5\u001b[0;31m             \u001b[0;32mraise\u001b[0m \u001b[0mException\u001b[0m\u001b[0;34m(\u001b[0m\u001b[0;34m\"Age can not be greater then 80 and less then 16\"\u001b[0m\u001b[0;34m)\u001b[0m\u001b[0;34m\u001b[0m\u001b[0;34m\u001b[0m\u001b[0m\n\u001b[0m\u001b[1;32m      6\u001b[0m         \u001b[0mself\u001b[0m\u001b[0;34m.\u001b[0m\u001b[0mname\u001b[0m \u001b[0;34m=\u001b[0m \u001b[0mname\u001b[0m\u001b[0;34m\u001b[0m\u001b[0;34m\u001b[0m\u001b[0m\n\u001b[1;32m      7\u001b[0m         \u001b[0mself\u001b[0m\u001b[0;34m.\u001b[0m\u001b[0mage\u001b[0m \u001b[0;34m=\u001b[0m \u001b[0mage\u001b[0m\u001b[0;34m\u001b[0m\u001b[0;34m\u001b[0m\u001b[0m\n",
            "\u001b[0;31mException\u001b[0m: Age can not be greater then 80 and less then 16"
          ]
        }
      ]
    },
    {
      "cell_type": "markdown",
      "metadata": {
        "id": "3oDvEABji1cG"
      },
      "source": [
        "#Catching the exception raised by ourself###\n",
        "Exception catch karne ki liye wahi kam karenge k jahan se raise hone k dar ho usko try me\n",
        "dal den. or except me catch kara den. Go through the code......"
      ]
    },
    {
      "cell_type": "code",
      "metadata": {
        "id": "QE5R6viUi1cH"
      },
      "source": [
        "class Student():\n",
        "    def __init__(self,name,age):\n",
        "        if age > 80:\n",
        "            raise Exception(\"Age can not be greater then 80\")\n",
        "        self.name = name\n",
        "        self.age = age\n",
        "\n",
        "\n"
      ],
      "execution_count": null,
      "outputs": []
    },
    {
      "cell_type": "code",
      "metadata": {
        "id": "WXSj3g7Ii1cH"
      },
      "source": [
        "\n",
        "'''ab humen try except laga diya hy code crash nahi hoga or izzat batch jaegi hahahahah'''\n",
        "try:\n",
        "    age = int(input(\"Enter students age: \"))\n",
        "    st = Student(\"Hello\",age)   # send different ages and see the result\n",
        "except Exception as e:\n",
        "    print(\"Exception \"+str(e))\n",
        "else :\n",
        "    print(st.age)\n"
      ],
      "execution_count": null,
      "outputs": []
    },
    {
      "cell_type": "markdown",
      "metadata": {
        "id": "w6FI8SXyi1cI"
      },
      "source": [
        "\n",
        "#####################################################\n",
        "#######Importantttttttttttttttttttttttttttttttt######\n",
        "#####################################################"
      ]
    },
    {
      "cell_type": "markdown",
      "metadata": {
        "id": "i1Fm2G2Qi1cI"
      },
      "source": [
        "Making our class of exception::::::::\n",
        "Raising exception ourselves::::::\n",
        "\n",
        "Last code me we used python exception class\n",
        "Now we will make our own exception class and will used in the code.\n",
        "Dont panic guls and guys...\n",
        "\n"
      ]
    },
    {
      "cell_type": "code",
      "metadata": {
        "id": "or1Us0Mji1cJ"
      },
      "source": [
        "\n",
        "class Student():\n",
        "    def __init__(self,name,age):\n",
        "        if age > 80 or age <16:\n",
        "            raise StudentAgeException(\"Age can not be greater then 80 and less then 16\")\n",
        "            # we used here own class of exceptio\n",
        "        self.name = name\n",
        "        self.age = age\n",
        "\n",
        "'''All the exception raised are derived from a class Exception by default \n",
        "   We can make our own class of exception and can derived(inherit) it from parent\n",
        "   Exception class like this:'''        \n",
        "        \n",
        "class StudentAgeException(Exception):\n",
        "    pass\n"
      ],
      "execution_count": null,
      "outputs": []
    },
    {
      "cell_type": "code",
      "metadata": {
        "scrolled": true,
        "colab": {
          "base_uri": "https://localhost:8080/",
          "height": 367
        },
        "id": "9sARj0Fgi1cJ",
        "outputId": "777b4209-9a6f-40eb-978a-bc2236c02b4d"
      },
      "source": [
        "age = int(input(\"Enter students age: \"))\n",
        "st = Student(\"Hello\",age)\n",
        "# abhi it is creating exception that is not handled\n",
        "print(st.age)\n",
        "\n",
        "####Note###\n",
        "'''exception raise karane k liye humne Exception python ki general wali use nahiiiiiii ki hy\n",
        "   abhi code crash hogaya hy kyu k humne abhi exception catch nahiiiiiiiiiiiiiiiiii ki hy'''"
      ],
      "execution_count": null,
      "outputs": [
        {
          "output_type": "stream",
          "text": [
            "Enter students age: 90\n"
          ],
          "name": "stdout"
        },
        {
          "output_type": "error",
          "ename": "StudentAgeException",
          "evalue": "ignored",
          "traceback": [
            "\u001b[0;31m---------------------------------------------------------------------------\u001b[0m",
            "\u001b[0;31mStudentAgeException\u001b[0m                       Traceback (most recent call last)",
            "\u001b[0;32m<ipython-input-6-6995fbd48f4c>\u001b[0m in \u001b[0;36m<module>\u001b[0;34m()\u001b[0m\n\u001b[1;32m      1\u001b[0m \u001b[0mage\u001b[0m \u001b[0;34m=\u001b[0m \u001b[0mint\u001b[0m\u001b[0;34m(\u001b[0m\u001b[0minput\u001b[0m\u001b[0;34m(\u001b[0m\u001b[0;34m\"Enter students age: \"\u001b[0m\u001b[0;34m)\u001b[0m\u001b[0;34m)\u001b[0m\u001b[0;34m\u001b[0m\u001b[0;34m\u001b[0m\u001b[0m\n\u001b[0;32m----> 2\u001b[0;31m \u001b[0mst\u001b[0m \u001b[0;34m=\u001b[0m \u001b[0mStudent\u001b[0m\u001b[0;34m(\u001b[0m\u001b[0;34m\"Hello\"\u001b[0m\u001b[0;34m,\u001b[0m\u001b[0mage\u001b[0m\u001b[0;34m)\u001b[0m\u001b[0;34m\u001b[0m\u001b[0;34m\u001b[0m\u001b[0m\n\u001b[0m\u001b[1;32m      3\u001b[0m \u001b[0;31m# abhi it is creating exception that is not handled\u001b[0m\u001b[0;34m\u001b[0m\u001b[0;34m\u001b[0m\u001b[0;34m\u001b[0m\u001b[0m\n\u001b[1;32m      4\u001b[0m \u001b[0mprint\u001b[0m\u001b[0;34m(\u001b[0m\u001b[0mst\u001b[0m\u001b[0;34m.\u001b[0m\u001b[0mage\u001b[0m\u001b[0;34m)\u001b[0m\u001b[0;34m\u001b[0m\u001b[0;34m\u001b[0m\u001b[0m\n\u001b[1;32m      5\u001b[0m \u001b[0;34m\u001b[0m\u001b[0m\n",
            "\u001b[0;32m<ipython-input-5-51ba8ac48b91>\u001b[0m in \u001b[0;36m__init__\u001b[0;34m(self, name, age)\u001b[0m\n\u001b[1;32m      3\u001b[0m     \u001b[0;32mdef\u001b[0m \u001b[0m__init__\u001b[0m\u001b[0;34m(\u001b[0m\u001b[0mself\u001b[0m\u001b[0;34m,\u001b[0m\u001b[0mname\u001b[0m\u001b[0;34m,\u001b[0m\u001b[0mage\u001b[0m\u001b[0;34m)\u001b[0m\u001b[0;34m:\u001b[0m\u001b[0;34m\u001b[0m\u001b[0;34m\u001b[0m\u001b[0m\n\u001b[1;32m      4\u001b[0m         \u001b[0;32mif\u001b[0m \u001b[0mage\u001b[0m \u001b[0;34m>\u001b[0m \u001b[0;36m80\u001b[0m \u001b[0;32mor\u001b[0m \u001b[0mage\u001b[0m \u001b[0;34m<\u001b[0m\u001b[0;36m16\u001b[0m\u001b[0;34m:\u001b[0m\u001b[0;34m\u001b[0m\u001b[0;34m\u001b[0m\u001b[0m\n\u001b[0;32m----> 5\u001b[0;31m             \u001b[0;32mraise\u001b[0m \u001b[0mStudentAgeException\u001b[0m\u001b[0;34m(\u001b[0m\u001b[0;34m\"Age can not be greater then 80 and less then 16\"\u001b[0m\u001b[0;34m)\u001b[0m\u001b[0;34m\u001b[0m\u001b[0;34m\u001b[0m\u001b[0m\n\u001b[0m\u001b[1;32m      6\u001b[0m             \u001b[0;31m# we used here own class of exceptio\u001b[0m\u001b[0;34m\u001b[0m\u001b[0;34m\u001b[0m\u001b[0;34m\u001b[0m\u001b[0m\n\u001b[1;32m      7\u001b[0m         \u001b[0mself\u001b[0m\u001b[0;34m.\u001b[0m\u001b[0mname\u001b[0m \u001b[0;34m=\u001b[0m \u001b[0mname\u001b[0m\u001b[0;34m\u001b[0m\u001b[0;34m\u001b[0m\u001b[0m\n",
            "\u001b[0;31mStudentAgeException\u001b[0m: Age can not be greater then 80 and less then 16"
          ]
        }
      ]
    },
    {
      "cell_type": "markdown",
      "metadata": {
        "id": "UyG37HQti1cK"
      },
      "source": [
        "\n",
        "#################################################################################\n",
        "Raising and catching our own exception [[[[defined in our own exception class]]]]\n",
        "Raising and catching our own exception [[[[defined in our own exception class]]]]\n",
        "Raising and catching our own exception [[[[defined in our own exception class]]]]\n",
        "Raising and catching our own exception [[[[defined in our own exception class]]]]\n",
        "Raising and catching our own exception [[[[defined in our own exception class]]]]\n",
        "#################################################################################"
      ]
    },
    {
      "cell_type": "code",
      "metadata": {
        "id": "-_6mRN02i1cL"
      },
      "source": [
        "\n",
        "class Student():\n",
        "    def __init__(self,name,age):\n",
        "        if age > 80 or age <16:\n",
        "            raise StudentAgeException(\"Age can not be greater then 80 and less then 16\")\n",
        "        self.name = name\n",
        "        self.age = age\n",
        "\n",
        "class StudentAgeException(Exception):\n",
        "    pass\n",
        "\n",
        "\n",
        "try:\n",
        "    age = int(input(\"Enter students age: \"))\n",
        "    st = Student(\"Hello\",age)\n",
        "\n",
        "except StudentAgeException as e:\n",
        "    print(\"StudentAgeException == \"+str(e))\n",
        "else :\n",
        "    print(st.age) \n",
        "\n"
      ],
      "execution_count": null,
      "outputs": []
    },
    {
      "cell_type": "code",
      "metadata": {
        "id": "FliZOqQ5i1cM"
      },
      "source": [
        ""
      ],
      "execution_count": null,
      "outputs": []
    },
    {
      "cell_type": "code",
      "metadata": {
        "id": "Sk9-mb4gi1cM"
      },
      "source": [
        ""
      ],
      "execution_count": null,
      "outputs": []
    }
  ]
}